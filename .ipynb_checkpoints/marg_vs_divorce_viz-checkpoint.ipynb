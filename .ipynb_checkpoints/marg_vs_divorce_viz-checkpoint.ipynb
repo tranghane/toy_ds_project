{
 "cells": [
  {
   "cell_type": "code",
   "execution_count": null,
   "id": "a6636e4f-692b-48a7-9648-744a2fad4d1b",
   "metadata": {},
   "outputs": [],
   "source": []
  }
 ],
 "metadata": {
  "kernelspec": {
   "display_name": "R",
   "language": "R",
   "name": "ir"
  },
  "language_info": {
   "codemirror_mode": "r",
   "file_extension": ".r",
   "mimetype": "text/x-r-source",
   "name": "R",
   "pygments_lexer": "r",
   "version": "4.1.3"
  }
 },
 "nbformat": 4,
 "nbformat_minor": 5
}
